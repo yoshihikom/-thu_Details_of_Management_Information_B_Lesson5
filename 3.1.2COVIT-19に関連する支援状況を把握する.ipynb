{
 "cells": [
  {
   "cell_type": "code",
   "execution_count": 11,
   "id": "ced4047d",
   "metadata": {},
   "outputs": [
    {
     "name": "stdout",
     "output_type": "stream",
     "text": [
      "https://hojyokin-portal.jp/subsidies/28857\n"
     ]
    },
    {
     "name": "stderr",
     "output_type": "stream",
     "text": [
      "C:\\Users\\murak\\AppData\\Local\\Temp\\ipykernel_29080\\486260499.py:35: FutureWarning: The frame.append method is deprecated and will be removed from pandas in a future version. Use pandas.concat instead.\n",
      "  data3=data3.append(dfs)\n",
      "C:\\Users\\murak\\AppData\\Local\\Temp\\ipykernel_29080\\486260499.py:53: FutureWarning: The frame.append method is deprecated and will be removed from pandas in a future version. Use pandas.concat instead.\n",
      "  data4=data4.append(data3)\n"
     ]
    },
    {
     "name": "stdout",
     "output_type": "stream",
     "text": [
      "     0     1                     2         3    4  \\\n",
      "0   地域  実施機関                  申請期間  上限金額・助成額  補助率   \n",
      "1  鳥取県   鳥取県  2023年4月1日〜2023年5月31日     200万円  1/2   \n",
      "\n",
      "                                  5                                    6  \\\n",
      "0                                目的                                 対象経費   \n",
      "1  起業・創業・ベンチャー／設備投資・運転資金／地域活性・まちづくり  人件費／借料／原材料費／知的財産権等関連経費／専門家謝金／旅費／広告費   \n",
      "\n",
      "            7                                                  8  \\\n",
      "0       対象事業者                                            公式公募ページ   \n",
      "1  創業前・創業5年未満  http://db.pref.tottori.jp/pressrelease.nsf/web...   \n",
      "\n",
      "                             補助金名  \\\n",
      "0  鳥取県：「鳥取県地域課題解決型起業支援補助金」（令和5年度）   \n",
      "1  鳥取県：「鳥取県地域課題解決型起業支援補助金」（令和5年度）   \n",
      "\n",
      "                                               補助金既要  \n",
      "0  \\n地域資源活用や中山間地振興における分野において地域が抱える課題の解決に資する新たな起業者...  \n",
      "1  \\n地域資源活用や中山間地振興における分野において地域が抱える課題の解決に資する新たな起業者...  \n",
      "https://hojyokin-portal.jp/subsidies/28856\n"
     ]
    },
    {
     "name": "stderr",
     "output_type": "stream",
     "text": [
      "C:\\Users\\murak\\AppData\\Local\\Temp\\ipykernel_29080\\486260499.py:35: FutureWarning: The frame.append method is deprecated and will be removed from pandas in a future version. Use pandas.concat instead.\n",
      "  data3=data3.append(dfs)\n",
      "C:\\Users\\murak\\AppData\\Local\\Temp\\ipykernel_29080\\486260499.py:53: FutureWarning: The frame.append method is deprecated and will be removed from pandas in a future version. Use pandas.concat instead.\n",
      "  data4=data4.append(data3)\n"
     ]
    },
    {
     "name": "stdout",
     "output_type": "stream",
     "text": [
      "     0     1                    2         3    4          5            6  \\\n",
      "0   地域  実施機関                 申請期間  上限金額・助成額  補助率         目的         対象経費   \n",
      "1  宮崎県   宮崎県  2023年5月1日〜2023年6月2日      50万円  1/2  海外展開／販路開拓  出願費／出展料・出店料   \n",
      "\n",
      "          7                                                  8  \\\n",
      "0     対象事業者                                            公式公募ページ   \n",
      "1  法人／個人事業主  https://www.pref.miyazaki.lg.jp/kigyoshinko/sh...   \n",
      "\n",
      "                             補助金名  \\\n",
      "0  宮崎県：「ものづくり企業海外販路開拓・拡大支援事業費補助金」   \n",
      "1  宮崎県：「ものづくり企業海外販路開拓・拡大支援事業費補助金」   \n",
      "\n",
      "                                               補助金既要  \n",
      "0  \\nコロナ禍で停滞していた海外ビジネスの本格的な再開を見据え、反転攻勢に向けた海外販路開拓・...  \n",
      "1  \\nコロナ禍で停滞していた海外ビジネスの本格的な再開を見据え、反転攻勢に向けた海外販路開拓・...  \n",
      "https://hojyokin-portal.jp/subsidies/28855\n"
     ]
    },
    {
     "name": "stderr",
     "output_type": "stream",
     "text": [
      "C:\\Users\\murak\\AppData\\Local\\Temp\\ipykernel_29080\\486260499.py:35: FutureWarning: The frame.append method is deprecated and will be removed from pandas in a future version. Use pandas.concat instead.\n",
      "  data3=data3.append(dfs)\n",
      "C:\\Users\\murak\\AppData\\Local\\Temp\\ipykernel_29080\\486260499.py:53: FutureWarning: The frame.append method is deprecated and will be removed from pandas in a future version. Use pandas.concat instead.\n",
      "  data4=data4.append(data3)\n"
     ]
    },
    {
     "name": "stdout",
     "output_type": "stream",
     "text": [
      "          0     1                      2         3          4  \\\n",
      "0        地域  実施機関                   申請期間  上限金額・助成額        補助率   \n",
      "1  千葉県 南房総市  南房総市  2023年4月10日〜2023年5月31日      50万円  売上減少額×1/3   \n",
      "\n",
      "                 5     6                7  \\\n",
      "0               目的  対象経費            対象事業者   \n",
      "1  経営改善・経営強化／感染症対策   ---  宿泊施設／中小企業／個人事業主   \n",
      "\n",
      "                                                   8  \\\n",
      "0                                            公式公募ページ   \n",
      "1  https://www.city.minamiboso.chiba.jp/000001831...   \n",
      "\n",
      "                                  補助金名  \\\n",
      "0  千葉県南房総市：「南房総市宿泊事業者経営継続支援金（1月～3月対象）」   \n",
      "1  千葉県南房総市：「南房総市宿泊事業者経営継続支援金（1月～3月対象）」   \n",
      "\n",
      "                                               補助金既要  \n",
      "0  \\n新型コロナウイルス感染症の長期化の影響を受ける宿泊事業者に対し、徹底した感染防止対策と事...  \n",
      "1  \\n新型コロナウイルス感染症の長期化の影響を受ける宿泊事業者に対し、徹底した感染防止対策と事...  \n",
      "https://hojyokin-portal.jp/subsidies/28854\n"
     ]
    },
    {
     "name": "stderr",
     "output_type": "stream",
     "text": [
      "C:\\Users\\murak\\AppData\\Local\\Temp\\ipykernel_29080\\486260499.py:35: FutureWarning: The frame.append method is deprecated and will be removed from pandas in a future version. Use pandas.concat instead.\n",
      "  data3=data3.append(dfs)\n",
      "C:\\Users\\murak\\AppData\\Local\\Temp\\ipykernel_29080\\486260499.py:53: FutureWarning: The frame.append method is deprecated and will be removed from pandas in a future version. Use pandas.concat instead.\n",
      "  data4=data4.append(data3)\n"
     ]
    },
    {
     "name": "stdout",
     "output_type": "stream",
     "text": [
      "          0     1            2         3  \\\n",
      "0        地域  実施機関         申請期間  上限金額・助成額   \n",
      "1  神奈川県 逗子市   逗子市  2023年4月10日〜      15万円   \n",
      "\n",
      "                                                   4                 5      6  \\\n",
      "0                                                補助率                目的   対象経費   \n",
      "1  ・太陽光発電設備及び定置式蓄電池システム：上限15万円 ・家庭用燃料電池システム：上限5万円...  環境・省エネ／設備投資・運転資金  設備購入費   \n",
      "\n",
      "       7                                                  8  \\\n",
      "0  対象事業者                                            公式公募ページ   \n",
      "1     個人  https://www.city.zushi.kanagawa.jp/kurashi/kan...   \n",
      "\n",
      "                                     補助金名  \\\n",
      "0  神奈川県逗子市「逗子市再エネ・省エネ・蓄エネ機器導入費補助金」（令和5年度）   \n",
      "1  神奈川県逗子市「逗子市再エネ・省エネ・蓄エネ機器導入費補助金」（令和5年度）   \n",
      "\n",
      "                                            補助金既要  \n",
      "0  \\n市では、市内の住宅に再エネ・省エネ・蓄エネ機器を設置する方等に、補助金を交付します。\\n  \n",
      "1  \\n市では、市内の住宅に再エネ・省エネ・蓄エネ機器を設置する方等に、補助金を交付します。\\n  \n",
      "https://hojyokin-portal.jp/subsidies/28853\n"
     ]
    },
    {
     "name": "stderr",
     "output_type": "stream",
     "text": [
      "C:\\Users\\murak\\AppData\\Local\\Temp\\ipykernel_29080\\486260499.py:35: FutureWarning: The frame.append method is deprecated and will be removed from pandas in a future version. Use pandas.concat instead.\n",
      "  data3=data3.append(dfs)\n",
      "C:\\Users\\murak\\AppData\\Local\\Temp\\ipykernel_29080\\486260499.py:53: FutureWarning: The frame.append method is deprecated and will be removed from pandas in a future version. Use pandas.concat instead.\n",
      "  data4=data4.append(data3)\n"
     ]
    },
    {
     "name": "stdout",
     "output_type": "stream",
     "text": [
      "           0     1                     2         3  \\\n",
      "0         地域  実施機関                  申請期間  上限金額・助成額   \n",
      "1  北海道 茅部郡森町    森町  2023年4月3日〜2023年5月31日     100万円   \n",
      "\n",
      "                                      4                             5  \\\n",
      "0                                   補助率                            目的   \n",
      "1  ・農業者：1/2 ・農業団体：3/4 ※対象事業者により上限額の変動あり  研究・技術・産学連携／新規事業・開発／設備投資・運転資金   \n",
      "\n",
      "                                              6           7  \\\n",
      "0                                          対象経費       対象事業者   \n",
      "1  原材料費／借料／機械装置等費／外注費／通信運搬費／専門家旅費／専門家謝金／出展料・出店料  農業団体／個人農業者   \n",
      "\n",
      "                                                   8  \\\n",
      "0                                            公式公募ページ   \n",
      "1  https://www.town.hokkaido-mori.lg.jp/docs/2022...   \n",
      "\n",
      "                              補助金名                                   補助金既要  \n",
      "0  北海道森町：「森町農産物加工振興支援事業補助金」（令和5年度）  \\n町内農産物による農産加工品の商品化に向けて、経費の一部を補助します。\\n  \n",
      "1  北海道森町：「森町農産物加工振興支援事業補助金」（令和5年度）  \\n町内農産物による農産加工品の商品化に向けて、経費の一部を補助します。\\n  \n",
      "https://hojyokin-portal.jp/subsidies/28852\n"
     ]
    },
    {
     "name": "stderr",
     "output_type": "stream",
     "text": [
      "C:\\Users\\murak\\AppData\\Local\\Temp\\ipykernel_29080\\486260499.py:35: FutureWarning: The frame.append method is deprecated and will be removed from pandas in a future version. Use pandas.concat instead.\n",
      "  data3=data3.append(dfs)\n",
      "C:\\Users\\murak\\AppData\\Local\\Temp\\ipykernel_29080\\486260499.py:53: FutureWarning: The frame.append method is deprecated and will be removed from pandas in a future version. Use pandas.concat instead.\n",
      "  data4=data4.append(data3)\n"
     ]
    },
    {
     "name": "stdout",
     "output_type": "stream",
     "text": [
      "          0     1                       2         3    4             5  \\\n",
      "0        地域  実施機関                    申請期間  上限金額・助成額  補助率            目的   \n",
      "1  福岡県 久留米市  久留米市  2022年10月3日〜2022年10月21日      30万円  1/2  新規事業・開発／販路開拓   \n",
      "\n",
      "                                     6             7  \\\n",
      "0                                 対象経費         対象事業者   \n",
      "1  人件費／旅費／原材料費／通信運搬費／委託費／借料／水道光熱費等／工事費  個人事業主／組合・団体等   \n",
      "\n",
      "                                                   8  \\\n",
      "0                                            公式公募ページ   \n",
      "1  https://www.city.kurume.fukuoka.jp/1090sangyou...   \n",
      "\n",
      "                               補助金名  \\\n",
      "0  福岡県久留米市：「令和5年度 久留米市6次産業化推進事業補助金」   \n",
      "1  福岡県久留米市：「令和5年度 久留米市6次産業化推進事業補助金」   \n",
      "\n",
      "                                               補助金既要  \n",
      "0  \\n久留米産農林水産物を活用し、6次産業化を行う農林漁業者又は農林漁業団体に対し、農林水産加...  \n",
      "1  \\n久留米産農林水産物を活用し、6次産業化を行う農林漁業者又は農林漁業団体に対し、農林水産加...  \n",
      "https://hojyokin-portal.jp/subsidies/28851\n"
     ]
    },
    {
     "name": "stderr",
     "output_type": "stream",
     "text": [
      "C:\\Users\\murak\\AppData\\Local\\Temp\\ipykernel_29080\\486260499.py:35: FutureWarning: The frame.append method is deprecated and will be removed from pandas in a future version. Use pandas.concat instead.\n",
      "  data3=data3.append(dfs)\n",
      "C:\\Users\\murak\\AppData\\Local\\Temp\\ipykernel_29080\\486260499.py:53: FutureWarning: The frame.append method is deprecated and will be removed from pandas in a future version. Use pandas.concat instead.\n",
      "  data4=data4.append(data3)\n"
     ]
    },
    {
     "name": "stdout",
     "output_type": "stream",
     "text": [
      "     0                  1                     2         3  \\\n",
      "0   地域               実施機関                  申請期間  上限金額・助成額   \n",
      "1  栃木県  公益財団法人栃木県産業振興センター  2023年5月1日〜2023年5月31日   4,000万円   \n",
      "\n",
      "                                         4                          5  \\\n",
      "0                                      補助率                         目的   \n",
      "1  ・中小企業等：2/3 ・大企業：1/2 ※単体か連携体かにより上限額の変動あり  環境・省エネ／新規事業・開発／研究・技術・産学連携   \n",
      "\n",
      "                                    6                   7  \\\n",
      "0                                対象経費               対象事業者   \n",
      "1  機械装置等費／原材料費／外注費／委託費／人件費／知的財産権等関連経費  中小企業／個人事業主／連携体／大企業   \n",
      "\n",
      "                                                 8  \\\n",
      "0                                          公式公募ページ   \n",
      "1  http://www.tochigi-iin.or.jp/index/3/40/40.html   \n",
      "\n",
      "                                           補助金名  \\\n",
      "0  栃木県：「とちぎグリーン成長産業創出支援基金事業（実用化開発助成事業 ）」（令和5年度）   \n",
      "1  栃木県：「とちぎグリーン成長産業創出支援基金事業（実用化開発助成事業 ）」（令和5年度）   \n",
      "\n",
      "                                               補助金既要  \n",
      "0  \\nカーボンニュートラル実現を目指し、国の重点14分野で掲げられた産業分野における技術を中心...  \n",
      "1  \\nカーボンニュートラル実現を目指し、国の重点14分野で掲げられた産業分野における技術を中心...  \n",
      "https://hojyokin-portal.jp/subsidies/28850\n"
     ]
    },
    {
     "name": "stderr",
     "output_type": "stream",
     "text": [
      "C:\\Users\\murak\\AppData\\Local\\Temp\\ipykernel_29080\\486260499.py:35: FutureWarning: The frame.append method is deprecated and will be removed from pandas in a future version. Use pandas.concat instead.\n",
      "  data3=data3.append(dfs)\n",
      "C:\\Users\\murak\\AppData\\Local\\Temp\\ipykernel_29080\\486260499.py:53: FutureWarning: The frame.append method is deprecated and will be removed from pandas in a future version. Use pandas.concat instead.\n",
      "  data4=data4.append(data3)\n"
     ]
    },
    {
     "name": "stdout",
     "output_type": "stream",
     "text": [
      "     0                  1                     2         3  \\\n",
      "0   地域               実施機関                  申請期間  上限金額・助成額   \n",
      "1  栃木県  公益財団法人栃木県産業振興センター  2023年5月1日〜2023年5月31日   1,000万円   \n",
      "\n",
      "                                         4                          5  \\\n",
      "0                                      補助率                         目的   \n",
      "1  ・中小企業等：2/3 ・大企業：1/2 ※単体か連携体かにより上限額の変動あり  研究・技術・産学連携／環境・省エネ／新規事業・開発   \n",
      "\n",
      "                                    6                   7  \\\n",
      "0                                対象経費               対象事業者   \n",
      "1  機械装置等費／原材料費／外注費／委託費／人件費／知的財産権等関連経費  中小企業／個人事業主／連携体／大企業   \n",
      "\n",
      "                                                 8  \\\n",
      "0                                          公式公募ページ   \n",
      "1  https://www.tochigi-iin.or.jp/home/3/40/39.html   \n",
      "\n",
      "                                                補助金名  \\\n",
      "0  栃木県：「とちぎグリーン成長産業創出支援基金事業（インキュベーション研究助成事業 ）」（令和...   \n",
      "1  栃木県：「とちぎグリーン成長産業創出支援基金事業（インキュベーション研究助成事業 ）」（令和...   \n",
      "\n",
      "                                               補助金既要  \n",
      "0  \\nカーボンニュートラル社会の実現に資する技術開発のうち、実用化開発の前段の研究として、基礎...  \n",
      "1  \\nカーボンニュートラル社会の実現に資する技術開発のうち、実用化開発の前段の研究として、基礎...  \n",
      "https://hojyokin-portal.jp/subsidies/28849\n"
     ]
    },
    {
     "name": "stderr",
     "output_type": "stream",
     "text": [
      "C:\\Users\\murak\\AppData\\Local\\Temp\\ipykernel_29080\\486260499.py:35: FutureWarning: The frame.append method is deprecated and will be removed from pandas in a future version. Use pandas.concat instead.\n",
      "  data3=data3.append(dfs)\n",
      "C:\\Users\\murak\\AppData\\Local\\Temp\\ipykernel_29080\\486260499.py:53: FutureWarning: The frame.append method is deprecated and will be removed from pandas in a future version. Use pandas.concat instead.\n",
      "  data4=data4.append(data3)\n"
     ]
    },
    {
     "name": "stdout",
     "output_type": "stream",
     "text": [
      "         0     1                     2         3    4                 5  \\\n",
      "0       地域  実施機関                  申請期間  上限金額・助成額  補助率                目的   \n",
      "1  東京都 杉並区   杉並区  2023年4月3日〜2023年5月31日      40万円  2/3  地域活性・まちづくり／感染症対策   \n",
      "\n",
      "                           6          7  \\\n",
      "0                       対象経費      対象事業者   \n",
      "1  借料／専門家謝金／通信運搬費／広告費／機械装置等費  個人／組合・団体等   \n",
      "\n",
      "                                                   8  \\\n",
      "0                                            公式公募ページ   \n",
      "1  https://www.city.suginami.tokyo.jp/news/r0504/...   \n",
      "\n",
      "                             補助金名  \\\n",
      "0  東京都杉並区：「令和5年度杉並区文化芸術活動助成金対象事業」   \n",
      "1  東京都杉並区：「令和5年度杉並区文化芸術活動助成金対象事業」   \n",
      "\n",
      "                                               補助金既要  \n",
      "0  \\n区内で行われる文化芸術活動事業に係る経費の一部を助成することを通して、区民や区内に拠点を...  \n",
      "1  \\n区内で行われる文化芸術活動事業に係る経費の一部を助成することを通して、区民や区内に拠点を...  \n",
      "https://hojyokin-portal.jp/subsidies/28848\n"
     ]
    },
    {
     "name": "stderr",
     "output_type": "stream",
     "text": [
      "C:\\Users\\murak\\AppData\\Local\\Temp\\ipykernel_29080\\486260499.py:35: FutureWarning: The frame.append method is deprecated and will be removed from pandas in a future version. Use pandas.concat instead.\n",
      "  data3=data3.append(dfs)\n",
      "C:\\Users\\murak\\AppData\\Local\\Temp\\ipykernel_29080\\486260499.py:53: FutureWarning: The frame.append method is deprecated and will be removed from pandas in a future version. Use pandas.concat instead.\n",
      "  data4=data4.append(data3)\n"
     ]
    },
    {
     "name": "stdout",
     "output_type": "stream",
     "text": [
      "         0     1            2         3    4           5           6  \\\n",
      "0       地域  実施機関         申請期間  上限金額・助成額  補助率          目的        対象経費   \n",
      "1  東京都 文京区   文京区  〜2023年5月31日      40万円  1/2  地域活性・まちづくり  保険料等／借料／旅費   \n",
      "\n",
      "              7                                                  8  \\\n",
      "0         対象事業者                                            公式公募ページ   \n",
      "1  NPO法人／組合・団体等  https://www.city.bunkyo.lg.jp/kyoiku/seshonen/...   \n",
      "\n",
      "                              補助金名  \\\n",
      "0  東京都文京区：「青少年の社会参加推進事業補助金」（令和5年度）   \n",
      "1  東京都文京区：「青少年の社会参加推進事業補助金」（令和5年度）   \n",
      "\n",
      "                                               補助金既要  \n",
      "0  \\n区内で非営利活動を行う団体が行う、青少年の社会参加を推進する事業や、青年育成事業に要する...  \n",
      "1  \\n区内で非営利活動を行う団体が行う、青少年の社会参加を推進する事業や、青年育成事業に要する...  \n"
     ]
    }
   ],
   "source": [
    "import pandas as pd\n",
    "import numpy as np\n",
    "import time\n",
    "import urllib.request\n",
    "# urilib.requestをインポートする\n",
    "from urllib import request\n",
    "# BeautifulSoupをインポートする\n",
    "from bs4 import BeautifulSoup\n",
    "\n",
    "# URLを指定する\n",
    "url1 = 'https://hojyokin-portal.jp/subsidies/'\n",
    "\n",
    "data4=pd.DataFrame()\n",
    "\n",
    "# 最新登録番号を調べてセットする\n",
    "num = 28857\n",
    "\n",
    "#listを指定する\n",
    "#間隔（公差）を指定するnumpy.arangeを使う\n",
    "#ここでは、最新版から10個とする\n",
    "list=np.arange(num,num-10,-1)\n",
    "\n",
    "#リストを最新版から開始して、古い情報まで繰り返す\n",
    "for j in range(len(list)):\n",
    "    try:\n",
    "        #空のDataFrameを用意する\n",
    "        data3=pd.DataFrame()\n",
    "        url2 = list[j]\n",
    "\n",
    "        url3=url1+str(url2)\n",
    "        print(url3)\n",
    "        \n",
    "        #URLを読み込む\n",
    "        response = request.urlopen(url3)\n",
    "        dfs = pd.read_html(url3)\n",
    "        #前節と同じく、DataFrameで情報を取得する\n",
    "        data3=data3.append(dfs)\n",
    "        #取得したデータの行列を転置する\n",
    "        data3=data3.T\n",
    "        \n",
    "        soup = BeautifulSoup(response)\n",
    "        #h1 タグから補助金名を取得する\n",
    "        hojyokin_namae = soup.find_all('h1', class_='p-subsidy__heading')\n",
    "        #div タグから補助金の概要を取得する\n",
    "        hojyokin_shousai = soup.find_all('div', class_='p-subsidy__text')\n",
    "        #内容を絞り込み、改行で分類する\n",
    "        test2=hojyokin_namae[0].text\n",
    "        test3=hojyokin_shousai[0].text\n",
    "        \n",
    "        #取り込んだデータにラベルをつけ、data3に追記する\n",
    "        data3[\"補助金名\"]=test2\n",
    "        data3[\"補助金既要\"]=test3\n",
    "        print(data3)\n",
    "        #data3に取得した内容をdata4に放り込む\n",
    "        data4=data4.append(data3)\n",
    "        #20秒作業を中断する\n",
    "        time.sleep(20)\n",
    "        response.close()\n",
    "    except urllib.error.HTTPError:\n",
    "        print(\"not available\")\n",
    "    else:\n",
    "        pass\n",
    "\n",
    "#データを取得した結果をcsvに出力する\n",
    "label=\"hojyokin_20200527_b.csv\"\n",
    "data4.to_csv(label)"
   ]
  },
  {
   "cell_type": "code",
   "execution_count": null,
   "id": "9eaf8dea",
   "metadata": {},
   "outputs": [],
   "source": []
  },
  {
   "cell_type": "code",
   "execution_count": null,
   "id": "3f744a7c",
   "metadata": {},
   "outputs": [],
   "source": []
  }
 ],
 "metadata": {
  "kernelspec": {
   "display_name": "Python 3 (ipykernel)",
   "language": "python",
   "name": "python3"
  },
  "language_info": {
   "codemirror_mode": {
    "name": "ipython",
    "version": 3
   },
   "file_extension": ".py",
   "mimetype": "text/x-python",
   "name": "python",
   "nbconvert_exporter": "python",
   "pygments_lexer": "ipython3",
   "version": "3.10.9"
  }
 },
 "nbformat": 4,
 "nbformat_minor": 5
}
