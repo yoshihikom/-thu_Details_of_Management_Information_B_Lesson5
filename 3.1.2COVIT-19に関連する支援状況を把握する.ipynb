{
  "cells": [
    {
      "cell_type": "code",
      "execution_count": null,
      "id": "ced4047d",
      "metadata": {
        "id": "ced4047d",
        "outputId": "05dd8f9c-1f01-4557-f9a8-d73664afb4ad",
        "colab": {
          "base_uri": "https://localhost:8080/"
        }
      },
      "outputs": [
        {
          "output_type": "stream",
          "name": "stdout",
          "text": [
            "https://hojyokin-portal.jp/subsidies/41844\n",
            "https://hojyokin-portal.jp/subsidies/41843\n",
            "https://hojyokin-portal.jp/subsidies/41842\n"
          ]
        }
      ],
      "source": [
        "import pandas as pd\n",
        "import numpy as np\n",
        "import time\n",
        "import urllib.request\n",
        "# urilib.requestをインポートする\n",
        "from urllib import request\n",
        "# BeautifulSoupをインポートする\n",
        "from bs4 import BeautifulSoup\n",
        "\n",
        "# URLを指定する\n",
        "url1 = 'https://hojyokin-portal.jp/subsidies/'\n",
        "\n",
        "data4=pd.DataFrame()\n",
        "\n",
        "# 最新登録番号を調べてセットする\n",
        "num = 41844\n",
        "\n",
        "#listを指定する\n",
        "#間隔（公差）を指定するnumpy.arangeを使う\n",
        "#ここでは、最新版から3個とする\n",
        "list=np.arange(num,num-3,-1)\n",
        "\n",
        "#リストを最新版から開始して、古い情報まで繰り返す\n",
        "for j in range(len(list)):\n",
        "    try:\n",
        "        #空のDataFrameを用意する\n",
        "        data3=pd.DataFrame()\n",
        "        url2 = list[j]\n",
        "\n",
        "        url3=url1+str(url2)\n",
        "        print(url3)\n",
        "\n",
        "        #URLを読み込む\n",
        "        response = request.urlopen(url3)\n",
        "        dfs = pd.read_html(url3)\n",
        "        #DataFrameで情報を取得する\n",
        "        #取得したデータの行列を転置する\n",
        "        data3=dfs[0].T\n",
        "        # 1行目を列名に設定\n",
        "        data3.columns = data3.iloc[0]\n",
        "        # 1行目を削除\n",
        "        data3 = data3.drop(data3.index[0])\n",
        "        # インデックスをリセット\n",
        "        data3.reset_index(drop=True, inplace=True)\n",
        "        #読み込んだデータをBeautifulSoupで解析\n",
        "        soup = BeautifulSoup(response)\n",
        "        #h1 タグから補助金名を取得する\n",
        "        hojyokin_namae = soup.find_all('h1', class_='p-subsidy__heading')\n",
        "        #div タグから補助金の概要を取得する\n",
        "        hojyokin_shousai = soup.find_all('div', class_='p-subsidy__text')\n",
        "        #内容を絞り込み、改行で分類する\n",
        "        test2=hojyokin_namae[0].text\n",
        "        test3=hojyokin_shousai[0].text\n",
        "        #取り込んだデータにラベルをつけ、data3に追記する\n",
        "        data3[\"補助金名\"]=test2\n",
        "        data3[\"補助金既要\"]=test3\n",
        "        #data3に取得した内容をdata4に放り込む\n",
        "        data4=pd.concat([data4,data3])\n",
        "        #20秒作業を中断する\n",
        "        time.sleep(20)\n",
        "        response.close()\n",
        "    except urllib.error.HTTPError:\n",
        "        print(\"not available\")\n",
        "    else:\n",
        "        pass\n",
        "\n",
        "#データを取得した結果をcsvに出力する\n",
        "label=\"hojyokin_20240513_b.csv\"\n",
        "data4.to_csv(label)"
      ]
    }
  ],
  "metadata": {
    "kernelspec": {
      "display_name": "Python 3 (ipykernel)",
      "language": "python",
      "name": "python3"
    },
    "language_info": {
      "codemirror_mode": {
        "name": "ipython",
        "version": 3
      },
      "file_extension": ".py",
      "mimetype": "text/x-python",
      "name": "python",
      "nbconvert_exporter": "python",
      "pygments_lexer": "ipython3",
      "version": "3.10.9"
    },
    "colab": {
      "provenance": []
    }
  },
  "nbformat": 4,
  "nbformat_minor": 5
}